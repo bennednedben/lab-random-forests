{
 "cells": [
  {
   "cell_type": "markdown",
   "id": "8a72c999",
   "metadata": {},
   "source": [
    "# Lab | Random Forests\n",
    "\n",
    "For this lab, you will be using the .CSV files provided in the files_for_lab folder. These are cleaned versions of the learningSet data from the Case Study 'Healthcare for All'.\n",
    "Begin a new Jupyter Notebook after Forking and Cloning this Repo.\n",
    "\n",
    "Instructions\n",
    "\n",
    "Apply the Random Forests algorithm but this time only by upscaling the data to deal with the imbalance.\n",
    "Use Feature Selections that you have learned in class to decide if you want to use all of the features (Variance Threshold, RFE, PCA, etc.)\n",
    "\n",
    "Re-run the Random Forest algorithm to determine if the Feature Selection has improved the results.\n",
    "Discuss the output and its impact in the business scenario. Is the cost of a false positive equals to the cost of the false negative? How would you change your algorithm or data in order to maximize the return of the business?"
   ]
  },
  {
   "cell_type": "code",
   "execution_count": 1,
   "id": "4058a2ba",
   "metadata": {},
   "outputs": [
    {
     "data": {
      "text/plain": [
       "0    90569\n",
       "1     4843\n",
       "Name: TARGET_B, dtype: int64"
      ]
     },
     "execution_count": 1,
     "metadata": {},
     "output_type": "execute_result"
    }
   ],
   "source": [
    "import pandas as pd\n",
    "import numpy as np\n",
    "pd.set_option('display.max_columns', None)\n",
    "import warnings\n",
    "warnings.filterwarnings('ignore')\n",
    "from sklearn.model_selection import cross_val_score\n",
    "from sklearn.model_selection import train_test_split\n",
    "\n",
    "\n",
    "numerical = pd.read_csv('numerical.csv')\n",
    "categorical = pd.read_csv('categorical.csv')\n",
    "targets = pd.read_csv('target.csv')\n",
    "data = pd.concat([numerical, categorical, targets], axis = 1)\n",
    "data['TARGET_B'].value_counts()"
   ]
  },
  {
   "cell_type": "markdown",
   "id": "d304cb37",
   "metadata": {},
   "source": [
    "# feature selection"
   ]
  },
  {
   "cell_type": "code",
   "execution_count": 2,
   "id": "5def3371",
   "metadata": {},
   "outputs": [],
   "source": [
    "data = data[['WEALTH2', 'POP90C5', 'ETH7', 'AGE906', 'CHILC2','HHN1', 'DW4', 'HV1','HV3', 'HHD11', 'ETHC4','HVP2', 'HVP3', 'HUPA6','ADI', 'IC1', 'IC4', 'IC12', 'IC22', 'HHAS3', 'MC1', 'MC2', 'PEC1', 'TPE11', 'TPE13', 'LFC3', 'LFC8', 'OCC13', 'EIC3', 'EIC4', 'EIC12', 'EIC13', 'EIC15', 'EC2', 'EC5', 'ANC8', 'HC6', 'HC16', 'CONTROLN', 'MAXRDATE_MM', 'TARGET_B', 'TARGET_D']]"
   ]
  },
  {
   "cell_type": "code",
   "execution_count": 3,
   "id": "e68ac222",
   "metadata": {},
   "outputs": [
    {
     "data": {
      "text/html": [
       "<div>\n",
       "<style scoped>\n",
       "    .dataframe tbody tr th:only-of-type {\n",
       "        vertical-align: middle;\n",
       "    }\n",
       "\n",
       "    .dataframe tbody tr th {\n",
       "        vertical-align: top;\n",
       "    }\n",
       "\n",
       "    .dataframe thead th {\n",
       "        text-align: right;\n",
       "    }\n",
       "</style>\n",
       "<table border=\"1\" class=\"dataframe\">\n",
       "  <thead>\n",
       "    <tr style=\"text-align: right;\">\n",
       "      <th></th>\n",
       "      <th>WEALTH2</th>\n",
       "      <th>POP90C5</th>\n",
       "      <th>ETH7</th>\n",
       "      <th>AGE906</th>\n",
       "      <th>CHILC2</th>\n",
       "      <th>HHN1</th>\n",
       "      <th>DW4</th>\n",
       "      <th>HV1</th>\n",
       "      <th>HV3</th>\n",
       "      <th>HHD11</th>\n",
       "      <th>ETHC4</th>\n",
       "      <th>HVP2</th>\n",
       "      <th>HVP3</th>\n",
       "      <th>HUPA6</th>\n",
       "      <th>ADI</th>\n",
       "      <th>IC1</th>\n",
       "      <th>IC4</th>\n",
       "      <th>IC12</th>\n",
       "      <th>IC22</th>\n",
       "      <th>HHAS3</th>\n",
       "      <th>MC1</th>\n",
       "      <th>MC2</th>\n",
       "      <th>PEC1</th>\n",
       "      <th>TPE11</th>\n",
       "      <th>TPE13</th>\n",
       "      <th>LFC3</th>\n",
       "      <th>LFC8</th>\n",
       "      <th>OCC13</th>\n",
       "      <th>EIC3</th>\n",
       "      <th>EIC4</th>\n",
       "      <th>EIC12</th>\n",
       "      <th>EIC13</th>\n",
       "      <th>EIC15</th>\n",
       "      <th>EC2</th>\n",
       "      <th>EC5</th>\n",
       "      <th>ANC8</th>\n",
       "      <th>HC6</th>\n",
       "      <th>HC16</th>\n",
       "      <th>CONTROLN</th>\n",
       "      <th>MAXRDATE_MM</th>\n",
       "      <th>TARGET_B</th>\n",
       "      <th>TARGET_D</th>\n",
       "    </tr>\n",
       "  </thead>\n",
       "  <tbody>\n",
       "    <tr>\n",
       "      <th>0</th>\n",
       "      <td>5</td>\n",
       "      <td>53</td>\n",
       "      <td>0</td>\n",
       "      <td>54</td>\n",
       "      <td>11</td>\n",
       "      <td>18</td>\n",
       "      <td>2</td>\n",
       "      <td>479</td>\n",
       "      <td>3</td>\n",
       "      <td>15</td>\n",
       "      <td>0</td>\n",
       "      <td>7</td>\n",
       "      <td>13</td>\n",
       "      <td>0</td>\n",
       "      <td>177.0</td>\n",
       "      <td>307</td>\n",
       "      <td>378</td>\n",
       "      <td>0</td>\n",
       "      <td>0</td>\n",
       "      <td>51</td>\n",
       "      <td>46</td>\n",
       "      <td>54</td>\n",
       "      <td>1</td>\n",
       "      <td>16</td>\n",
       "      <td>45</td>\n",
       "      <td>50</td>\n",
       "      <td>99</td>\n",
       "      <td>4</td>\n",
       "      <td>3</td>\n",
       "      <td>41</td>\n",
       "      <td>4</td>\n",
       "      <td>9</td>\n",
       "      <td>1</td>\n",
       "      <td>16</td>\n",
       "      <td>21</td>\n",
       "      <td>1</td>\n",
       "      <td>31</td>\n",
       "      <td>0</td>\n",
       "      <td>95515</td>\n",
       "      <td>2</td>\n",
       "      <td>0</td>\n",
       "      <td>0.0</td>\n",
       "    </tr>\n",
       "    <tr>\n",
       "      <th>1</th>\n",
       "      <td>9</td>\n",
       "      <td>50</td>\n",
       "      <td>2</td>\n",
       "      <td>45</td>\n",
       "      <td>16</td>\n",
       "      <td>4</td>\n",
       "      <td>0</td>\n",
       "      <td>5468</td>\n",
       "      <td>12</td>\n",
       "      <td>4</td>\n",
       "      <td>0</td>\n",
       "      <td>98</td>\n",
       "      <td>98</td>\n",
       "      <td>0</td>\n",
       "      <td>13.0</td>\n",
       "      <td>1088</td>\n",
       "      <td>1037</td>\n",
       "      <td>13</td>\n",
       "      <td>10</td>\n",
       "      <td>66</td>\n",
       "      <td>56</td>\n",
       "      <td>44</td>\n",
       "      <td>0</td>\n",
       "      <td>32</td>\n",
       "      <td>71</td>\n",
       "      <td>58</td>\n",
       "      <td>99</td>\n",
       "      <td>3</td>\n",
       "      <td>6</td>\n",
       "      <td>13</td>\n",
       "      <td>4</td>\n",
       "      <td>10</td>\n",
       "      <td>11</td>\n",
       "      <td>5</td>\n",
       "      <td>21</td>\n",
       "      <td>3</td>\n",
       "      <td>97</td>\n",
       "      <td>0</td>\n",
       "      <td>148535</td>\n",
       "      <td>12</td>\n",
       "      <td>0</td>\n",
       "      <td>0.0</td>\n",
       "    </tr>\n",
       "    <tr>\n",
       "      <th>2</th>\n",
       "      <td>1</td>\n",
       "      <td>51</td>\n",
       "      <td>0</td>\n",
       "      <td>49</td>\n",
       "      <td>14</td>\n",
       "      <td>21</td>\n",
       "      <td>6</td>\n",
       "      <td>497</td>\n",
       "      <td>2</td>\n",
       "      <td>17</td>\n",
       "      <td>0</td>\n",
       "      <td>1</td>\n",
       "      <td>6</td>\n",
       "      <td>3</td>\n",
       "      <td>281.0</td>\n",
       "      <td>251</td>\n",
       "      <td>340</td>\n",
       "      <td>0</td>\n",
       "      <td>0</td>\n",
       "      <td>31</td>\n",
       "      <td>38</td>\n",
       "      <td>62</td>\n",
       "      <td>1</td>\n",
       "      <td>24</td>\n",
       "      <td>61</td>\n",
       "      <td>59</td>\n",
       "      <td>82</td>\n",
       "      <td>7</td>\n",
       "      <td>11</td>\n",
       "      <td>33</td>\n",
       "      <td>0</td>\n",
       "      <td>7</td>\n",
       "      <td>3</td>\n",
       "      <td>22</td>\n",
       "      <td>16</td>\n",
       "      <td>0</td>\n",
       "      <td>50</td>\n",
       "      <td>15</td>\n",
       "      <td>15078</td>\n",
       "      <td>7</td>\n",
       "      <td>0</td>\n",
       "      <td>0.0</td>\n",
       "    </tr>\n",
       "    <tr>\n",
       "      <th>3</th>\n",
       "      <td>0</td>\n",
       "      <td>46</td>\n",
       "      <td>2</td>\n",
       "      <td>47</td>\n",
       "      <td>17</td>\n",
       "      <td>23</td>\n",
       "      <td>4</td>\n",
       "      <td>1000</td>\n",
       "      <td>2</td>\n",
       "      <td>12</td>\n",
       "      <td>0</td>\n",
       "      <td>25</td>\n",
       "      <td>50</td>\n",
       "      <td>0</td>\n",
       "      <td>67.0</td>\n",
       "      <td>386</td>\n",
       "      <td>423</td>\n",
       "      <td>0</td>\n",
       "      <td>0</td>\n",
       "      <td>26</td>\n",
       "      <td>46</td>\n",
       "      <td>54</td>\n",
       "      <td>0</td>\n",
       "      <td>15</td>\n",
       "      <td>43</td>\n",
       "      <td>53</td>\n",
       "      <td>0</td>\n",
       "      <td>0</td>\n",
       "      <td>6</td>\n",
       "      <td>3</td>\n",
       "      <td>0</td>\n",
       "      <td>3</td>\n",
       "      <td>3</td>\n",
       "      <td>28</td>\n",
       "      <td>27</td>\n",
       "      <td>0</td>\n",
       "      <td>39</td>\n",
       "      <td>16</td>\n",
       "      <td>172556</td>\n",
       "      <td>11</td>\n",
       "      <td>0</td>\n",
       "      <td>0.0</td>\n",
       "    </tr>\n",
       "    <tr>\n",
       "      <th>4</th>\n",
       "      <td>9</td>\n",
       "      <td>54</td>\n",
       "      <td>0</td>\n",
       "      <td>50</td>\n",
       "      <td>15</td>\n",
       "      <td>16</td>\n",
       "      <td>0</td>\n",
       "      <td>576</td>\n",
       "      <td>4</td>\n",
       "      <td>23</td>\n",
       "      <td>21</td>\n",
       "      <td>1</td>\n",
       "      <td>2</td>\n",
       "      <td>0</td>\n",
       "      <td>127.0</td>\n",
       "      <td>240</td>\n",
       "      <td>321</td>\n",
       "      <td>0</td>\n",
       "      <td>0</td>\n",
       "      <td>11</td>\n",
       "      <td>20</td>\n",
       "      <td>80</td>\n",
       "      <td>2</td>\n",
       "      <td>27</td>\n",
       "      <td>76</td>\n",
       "      <td>51</td>\n",
       "      <td>81</td>\n",
       "      <td>2</td>\n",
       "      <td>6</td>\n",
       "      <td>1</td>\n",
       "      <td>4</td>\n",
       "      <td>15</td>\n",
       "      <td>4</td>\n",
       "      <td>16</td>\n",
       "      <td>13</td>\n",
       "      <td>0</td>\n",
       "      <td>6</td>\n",
       "      <td>0</td>\n",
       "      <td>7112</td>\n",
       "      <td>1</td>\n",
       "      <td>0</td>\n",
       "      <td>0.0</td>\n",
       "    </tr>\n",
       "  </tbody>\n",
       "</table>\n",
       "</div>"
      ],
      "text/plain": [
       "   WEALTH2  POP90C5  ETH7  AGE906  CHILC2  HHN1  DW4   HV1  HV3  HHD11  ETHC4  \\\n",
       "0        5       53     0      54      11    18    2   479    3     15      0   \n",
       "1        9       50     2      45      16     4    0  5468   12      4      0   \n",
       "2        1       51     0      49      14    21    6   497    2     17      0   \n",
       "3        0       46     2      47      17    23    4  1000    2     12      0   \n",
       "4        9       54     0      50      15    16    0   576    4     23     21   \n",
       "\n",
       "   HVP2  HVP3  HUPA6    ADI   IC1   IC4  IC12  IC22  HHAS3  MC1  MC2  PEC1  \\\n",
       "0     7    13      0  177.0   307   378     0     0     51   46   54     1   \n",
       "1    98    98      0   13.0  1088  1037    13    10     66   56   44     0   \n",
       "2     1     6      3  281.0   251   340     0     0     31   38   62     1   \n",
       "3    25    50      0   67.0   386   423     0     0     26   46   54     0   \n",
       "4     1     2      0  127.0   240   321     0     0     11   20   80     2   \n",
       "\n",
       "   TPE11  TPE13  LFC3  LFC8  OCC13  EIC3  EIC4  EIC12  EIC13  EIC15  EC2  EC5  \\\n",
       "0     16     45    50    99      4     3    41      4      9      1   16   21   \n",
       "1     32     71    58    99      3     6    13      4     10     11    5   21   \n",
       "2     24     61    59    82      7    11    33      0      7      3   22   16   \n",
       "3     15     43    53     0      0     6     3      0      3      3   28   27   \n",
       "4     27     76    51    81      2     6     1      4     15      4   16   13   \n",
       "\n",
       "   ANC8  HC6  HC16  CONTROLN  MAXRDATE_MM  TARGET_B  TARGET_D  \n",
       "0     1   31     0     95515            2         0       0.0  \n",
       "1     3   97     0    148535           12         0       0.0  \n",
       "2     0   50    15     15078            7         0       0.0  \n",
       "3     0   39    16    172556           11         0       0.0  \n",
       "4     0    6     0      7112            1         0       0.0  "
      ]
     },
     "execution_count": 3,
     "metadata": {},
     "output_type": "execute_result"
    }
   ],
   "source": [
    "data.head()"
   ]
  },
  {
   "cell_type": "code",
   "execution_count": 4,
   "id": "e617e6e5",
   "metadata": {},
   "outputs": [
    {
     "data": {
      "text/plain": [
       "0"
      ]
     },
     "execution_count": 4,
     "metadata": {},
     "output_type": "execute_result"
    }
   ],
   "source": [
    "data.isna().sum().sum()"
   ]
  },
  {
   "cell_type": "code",
   "execution_count": 5,
   "id": "1189fe34",
   "metadata": {},
   "outputs": [],
   "source": [
    "y = data['TARGET_B']\n",
    "X = data.drop(['TARGET_B', 'TARGET_D'], axis = 1)\n",
    "\n",
    "numericalX = X.select_dtypes(np.number)\n",
    "categoricalX = X.select_dtypes(np.object)\n",
    "\n",
    "# we OneHotEncode the categoricals so we can use the same dataset to perform a regression later (in the lab).\n",
    "# it is not needed for a DecisionTree or RandomForest model-->no one hot encoding needed, but do for later\n",
    "from sklearn.preprocessing import OneHotEncoder\n",
    "encoder = OneHotEncoder(drop='first').fit(categoricalX)\n",
    "encoded_categorical = encoder.transform(categoricalX).toarray()\n",
    "encoded_categorical = pd.DataFrame(encoded_categorical)\n",
    "X = pd.concat([numericalX, encoded_categorical], axis = 1)\n",
    "\n",
    "# Note: we need to do train/test split before downsampling, and then only downsample the training set - Why?\n",
    "from sklearn.model_selection import train_test_split\n",
    "X_train, X_test, y_train, y_test = train_test_split(X, y, test_size=0.2, random_state=0)"
   ]
  },
  {
   "cell_type": "code",
   "execution_count": 6,
   "id": "ee07f29a",
   "metadata": {},
   "outputs": [],
   "source": [
    "trainset=pd.concat([y_train, X_train ], axis=1)"
   ]
  },
  {
   "cell_type": "code",
   "execution_count": 7,
   "id": "5ded1d65",
   "metadata": {},
   "outputs": [],
   "source": [
    "from sklearn.utils import resample\n",
    "\n",
    "category_0 = trainset[trainset['TARGET_B'] == 0]\n",
    "category_1 = trainset[trainset['TARGET_B'] == 1]"
   ]
  },
  {
   "cell_type": "code",
   "execution_count": 8,
   "id": "1828e915",
   "metadata": {},
   "outputs": [
    {
     "name": "stdout",
     "output_type": "stream",
     "text": [
      "(72486, 41)\n",
      "(72486, 41)\n"
     ]
    }
   ],
   "source": [
    "category_1_oversampled = resample(category_1, \n",
    "                                  replace=True, \n",
    "                                  n_samples = len(category_0))\n",
    "print(category_0.shape)\n",
    "print(category_1_oversampled.shape)"
   ]
  },
  {
   "cell_type": "code",
   "execution_count": 9,
   "id": "a20aea36",
   "metadata": {},
   "outputs": [],
   "source": [
    "data_upsampled = pd.concat([category_0, category_1_oversampled], axis=0)"
   ]
  },
  {
   "cell_type": "code",
   "execution_count": 10,
   "id": "372b1131",
   "metadata": {},
   "outputs": [],
   "source": [
    "X_train_upsampled = data_upsampled.drop(columns=['TARGET_B'])\n",
    "y_train_upsampled = data_upsampled['TARGET_B']"
   ]
  },
  {
   "cell_type": "code",
   "execution_count": 11,
   "id": "6968ae46",
   "metadata": {},
   "outputs": [],
   "source": [
    "X_train = pd.DataFrame(X_train)\n",
    "X_test = pd.DataFrame(X_test)"
   ]
  },
  {
   "cell_type": "code",
   "execution_count": 12,
   "id": "878b6487",
   "metadata": {},
   "outputs": [
    {
     "name": "stdout",
     "output_type": "stream",
     "text": [
      "0.9496521636599458\n",
      "0.9475973379447676\n"
     ]
    },
    {
     "data": {
      "text/plain": [
       "0    18083\n",
       "1     1000\n",
       "Name: TARGET_B, dtype: int64"
      ]
     },
     "metadata": {},
     "output_type": "display_data"
    },
    {
     "data": {
      "text/plain": [
       "array([[18083,     0],\n",
       "       [ 1000,     0]], dtype=int64)"
      ]
     },
     "metadata": {},
     "output_type": "display_data"
    }
   ],
   "source": [
    "from sklearn.ensemble import RandomForestClassifier\n",
    "from sklearn.metrics import confusion_matrix\n",
    "\n",
    "clf = RandomForestClassifier(max_depth=5,\n",
    "                             min_samples_split=20,\n",
    "                             min_samples_leaf =20,\n",
    "                             max_samples=0.8,\n",
    "                             random_state = 42)\n",
    "clf.fit(X_train, y_train)\n",
    "print(clf.score(X_train, y_train))\n",
    "print(clf.score(X_test, y_test))\n",
    "\n",
    "y_pred = clf.predict(X_test)\n",
    "display(y_test.value_counts())\n",
    "display(confusion_matrix(y_test, y_pred))"
   ]
  },
  {
   "cell_type": "code",
   "execution_count": 13,
   "id": "f92bf747",
   "metadata": {},
   "outputs": [
    {
     "name": "stdout",
     "output_type": "stream",
     "text": [
      "0.9496521640971386\n"
     ]
    }
   ],
   "source": [
    "# For cross validation\n",
    "from sklearn.model_selection import cross_val_score\n",
    "clf = RandomForestClassifier(max_depth=5,\n",
    "                             min_samples_split=20,\n",
    "                             min_samples_leaf =20)\n",
    "cross_val_scores = cross_val_score(clf, X_train, y_train, cv=10)\n",
    "print(np.mean(cross_val_scores))"
   ]
  },
  {
   "cell_type": "code",
   "execution_count": 14,
   "id": "e0c99b58",
   "metadata": {},
   "outputs": [
    {
     "data": {
      "text/plain": [
       "array([0.94969213, 0.94969213, 0.94969213, 0.94969213, 0.94969213,\n",
       "       0.94969213, 0.94956112, 0.94956112, 0.94956112, 0.94968553])"
      ]
     },
     "execution_count": 14,
     "metadata": {},
     "output_type": "execute_result"
    }
   ],
   "source": [
    "cross_val_scores"
   ]
  },
  {
   "cell_type": "code",
   "execution_count": 15,
   "id": "f4c46027",
   "metadata": {},
   "outputs": [
    {
     "data": {
      "text/html": [
       "<table class=\"simpletable\">\n",
       "<caption>OLS Regression Results</caption>\n",
       "<tr>\n",
       "  <th>Dep. Variable:</th>        <td>TARGET_B</td>     <th>  R-squared:         </th>  <td>   0.009</td>  \n",
       "</tr>\n",
       "<tr>\n",
       "  <th>Model:</th>                   <td>OLS</td>       <th>  Adj. R-squared:    </th>  <td>   0.009</td>  \n",
       "</tr>\n",
       "<tr>\n",
       "  <th>Method:</th>             <td>Least Squares</td>  <th>  F-statistic:       </th>  <td>   32.67</td>  \n",
       "</tr>\n",
       "<tr>\n",
       "  <th>Date:</th>             <td>Fri, 07 Apr 2023</td> <th>  Prob (F-statistic):</th>  <td>6.80e-247</td> \n",
       "</tr>\n",
       "<tr>\n",
       "  <th>Time:</th>                 <td>12:14:27</td>     <th>  Log-Likelihood:    </th> <td>-1.0457e+05</td>\n",
       "</tr>\n",
       "<tr>\n",
       "  <th>No. Observations:</th>      <td>144972</td>      <th>  AIC:               </th>  <td>2.092e+05</td> \n",
       "</tr>\n",
       "<tr>\n",
       "  <th>Df Residuals:</th>          <td>144931</td>      <th>  BIC:               </th>  <td>2.096e+05</td> \n",
       "</tr>\n",
       "<tr>\n",
       "  <th>Df Model:</th>              <td>    40</td>      <th>                     </th>      <td> </td>     \n",
       "</tr>\n",
       "<tr>\n",
       "  <th>Covariance Type:</th>      <td>nonrobust</td>    <th>                     </th>      <td> </td>     \n",
       "</tr>\n",
       "</table>\n",
       "<table class=\"simpletable\">\n",
       "<tr>\n",
       "       <td></td>          <th>coef</th>     <th>std err</th>      <th>t</th>      <th>P>|t|</th>  <th>[0.025</th>    <th>0.975]</th>  \n",
       "</tr>\n",
       "<tr>\n",
       "  <th>const</th>       <td>    0.4388</td> <td>    0.016</td> <td>   27.471</td> <td> 0.000</td> <td>    0.408</td> <td>    0.470</td>\n",
       "</tr>\n",
       "<tr>\n",
       "  <th>WEALTH2</th>     <td>   -0.0048</td> <td>    0.001</td> <td>   -9.533</td> <td> 0.000</td> <td>   -0.006</td> <td>   -0.004</td>\n",
       "</tr>\n",
       "<tr>\n",
       "  <th>POP90C5</th>     <td>   -0.0028</td> <td>    0.001</td> <td>   -4.735</td> <td> 0.000</td> <td>   -0.004</td> <td>   -0.002</td>\n",
       "</tr>\n",
       "<tr>\n",
       "  <th>ETH7</th>        <td>    0.0001</td> <td>    0.001</td> <td>    0.225</td> <td> 0.822</td> <td>   -0.001</td> <td>    0.001</td>\n",
       "</tr>\n",
       "<tr>\n",
       "  <th>AGE906</th>      <td>    0.0043</td> <td>    0.001</td> <td>    8.089</td> <td> 0.000</td> <td>    0.003</td> <td>    0.005</td>\n",
       "</tr>\n",
       "<tr>\n",
       "  <th>CHILC2</th>      <td>    0.0024</td> <td>    0.000</td> <td>    5.635</td> <td> 0.000</td> <td>    0.002</td> <td>    0.003</td>\n",
       "</tr>\n",
       "<tr>\n",
       "  <th>HHN1</th>        <td>   -0.0008</td> <td>    0.000</td> <td>   -2.344</td> <td> 0.019</td> <td>   -0.002</td> <td>   -0.000</td>\n",
       "</tr>\n",
       "<tr>\n",
       "  <th>DW4</th>         <td>   -0.0005</td> <td>    0.000</td> <td>   -3.677</td> <td> 0.000</td> <td>   -0.001</td> <td>   -0.000</td>\n",
       "</tr>\n",
       "<tr>\n",
       "  <th>HV1</th>         <td> 2.302e-05</td> <td> 3.56e-06</td> <td>    6.475</td> <td> 0.000</td> <td> 1.61e-05</td> <td>    3e-05</td>\n",
       "</tr>\n",
       "<tr>\n",
       "  <th>HV3</th>         <td>   -0.0009</td> <td>    0.001</td> <td>   -0.795</td> <td> 0.427</td> <td>   -0.003</td> <td>    0.001</td>\n",
       "</tr>\n",
       "<tr>\n",
       "  <th>HHD11</th>       <td>    0.0018</td> <td>    0.000</td> <td>    3.822</td> <td> 0.000</td> <td>    0.001</td> <td>    0.003</td>\n",
       "</tr>\n",
       "<tr>\n",
       "  <th>ETHC4</th>       <td>   -0.0038</td> <td>    0.000</td> <td>   -9.834</td> <td> 0.000</td> <td>   -0.005</td> <td>   -0.003</td>\n",
       "</tr>\n",
       "<tr>\n",
       "  <th>HVP2</th>        <td>   -0.0002</td> <td>    0.000</td> <td>   -1.374</td> <td> 0.169</td> <td>   -0.000</td> <td> 7.63e-05</td>\n",
       "</tr>\n",
       "<tr>\n",
       "  <th>HVP3</th>        <td>    0.0003</td> <td> 9.66e-05</td> <td>    3.170</td> <td> 0.002</td> <td>    0.000</td> <td>    0.000</td>\n",
       "</tr>\n",
       "<tr>\n",
       "  <th>HUPA6</th>       <td>-8.387e-05</td> <td>    0.000</td> <td>   -0.484</td> <td> 0.628</td> <td>   -0.000</td> <td>    0.000</td>\n",
       "</tr>\n",
       "<tr>\n",
       "  <th>ADI</th>         <td>-9.503e-06</td> <td>  1.2e-05</td> <td>   -0.794</td> <td> 0.427</td> <td> -3.3e-05</td> <td>  1.4e-05</td>\n",
       "</tr>\n",
       "<tr>\n",
       "  <th>IC1</th>         <td>-2.253e-05</td> <td> 2.87e-05</td> <td>   -0.786</td> <td> 0.432</td> <td>-7.87e-05</td> <td> 3.36e-05</td>\n",
       "</tr>\n",
       "<tr>\n",
       "  <th>IC4</th>         <td>    0.0001</td> <td> 3.11e-05</td> <td>    3.994</td> <td> 0.000</td> <td> 6.32e-05</td> <td>    0.000</td>\n",
       "</tr>\n",
       "<tr>\n",
       "  <th>IC12</th>        <td>   -0.0055</td> <td>    0.001</td> <td>   -8.378</td> <td> 0.000</td> <td>   -0.007</td> <td>   -0.004</td>\n",
       "</tr>\n",
       "<tr>\n",
       "  <th>IC22</th>        <td>   -0.0005</td> <td>    0.001</td> <td>   -0.632</td> <td> 0.527</td> <td>   -0.002</td> <td>    0.001</td>\n",
       "</tr>\n",
       "<tr>\n",
       "  <th>HHAS3</th>       <td>   -0.0002</td> <td>    0.000</td> <td>   -1.427</td> <td> 0.154</td> <td>   -0.001</td> <td> 8.31e-05</td>\n",
       "</tr>\n",
       "<tr>\n",
       "  <th>MC1</th>         <td>   -0.0004</td> <td>    0.000</td> <td>   -0.972</td> <td> 0.331</td> <td>   -0.001</td> <td>    0.000</td>\n",
       "</tr>\n",
       "<tr>\n",
       "  <th>MC2</th>         <td>   -0.0010</td> <td>    0.000</td> <td>   -2.380</td> <td> 0.017</td> <td>   -0.002</td> <td>   -0.000</td>\n",
       "</tr>\n",
       "<tr>\n",
       "  <th>PEC1</th>        <td>    0.0005</td> <td>    0.000</td> <td>    2.179</td> <td> 0.029</td> <td>  4.6e-05</td> <td>    0.001</td>\n",
       "</tr>\n",
       "<tr>\n",
       "  <th>TPE11</th>       <td>   -0.0006</td> <td>    0.000</td> <td>   -2.238</td> <td> 0.025</td> <td>   -0.001</td> <td>-8.02e-05</td>\n",
       "</tr>\n",
       "<tr>\n",
       "  <th>TPE13</th>       <td> -6.49e-06</td> <td>    0.000</td> <td>   -0.063</td> <td> 0.950</td> <td>   -0.000</td> <td>    0.000</td>\n",
       "</tr>\n",
       "<tr>\n",
       "  <th>LFC3</th>        <td>    0.0005</td> <td>    0.000</td> <td>    2.812</td> <td> 0.005</td> <td>    0.000</td> <td>    0.001</td>\n",
       "</tr>\n",
       "<tr>\n",
       "  <th>LFC8</th>        <td> 4.374e-05</td> <td> 4.59e-05</td> <td>    0.952</td> <td> 0.341</td> <td>-4.63e-05</td> <td>    0.000</td>\n",
       "</tr>\n",
       "<tr>\n",
       "  <th>OCC13</th>       <td>   -0.0030</td> <td>    0.001</td> <td>   -5.586</td> <td> 0.000</td> <td>   -0.004</td> <td>   -0.002</td>\n",
       "</tr>\n",
       "<tr>\n",
       "  <th>EIC3</th>        <td>    0.0002</td> <td>    0.000</td> <td>    0.506</td> <td> 0.613</td> <td>   -0.001</td> <td>    0.001</td>\n",
       "</tr>\n",
       "<tr>\n",
       "  <th>EIC4</th>        <td>-1.131e-05</td> <td>    0.000</td> <td>   -0.071</td> <td> 0.944</td> <td>   -0.000</td> <td>    0.000</td>\n",
       "</tr>\n",
       "<tr>\n",
       "  <th>EIC12</th>       <td>   -0.0008</td> <td>    0.001</td> <td>   -1.388</td> <td> 0.165</td> <td>   -0.002</td> <td>    0.000</td>\n",
       "</tr>\n",
       "<tr>\n",
       "  <th>EIC13</th>       <td>   -0.0002</td> <td>    0.000</td> <td>   -0.771</td> <td> 0.441</td> <td>   -0.001</td> <td>    0.000</td>\n",
       "</tr>\n",
       "<tr>\n",
       "  <th>EIC15</th>       <td>   -0.0019</td> <td>    0.000</td> <td>   -4.969</td> <td> 0.000</td> <td>   -0.003</td> <td>   -0.001</td>\n",
       "</tr>\n",
       "<tr>\n",
       "  <th>EC2</th>         <td>   -0.0007</td> <td>    0.000</td> <td>   -2.925</td> <td> 0.003</td> <td>   -0.001</td> <td>   -0.000</td>\n",
       "</tr>\n",
       "<tr>\n",
       "  <th>EC5</th>         <td>-4.259e-06</td> <td>    0.000</td> <td>   -0.017</td> <td> 0.987</td> <td>   -0.001</td> <td>    0.001</td>\n",
       "</tr>\n",
       "<tr>\n",
       "  <th>ANC8</th>        <td>    0.0004</td> <td>    0.001</td> <td>    0.718</td> <td> 0.473</td> <td>   -0.001</td> <td>    0.002</td>\n",
       "</tr>\n",
       "<tr>\n",
       "  <th>HC6</th>         <td>    0.0002</td> <td> 5.66e-05</td> <td>    4.170</td> <td> 0.000</td> <td>    0.000</td> <td>    0.000</td>\n",
       "</tr>\n",
       "<tr>\n",
       "  <th>HC16</th>        <td>    0.0003</td> <td>    0.000</td> <td>    2.319</td> <td> 0.020</td> <td> 5.35e-05</td> <td>    0.001</td>\n",
       "</tr>\n",
       "<tr>\n",
       "  <th>CONTROLN</th>    <td> 1.436e-07</td> <td> 2.61e-08</td> <td>    5.493</td> <td> 0.000</td> <td> 9.24e-08</td> <td> 1.95e-07</td>\n",
       "</tr>\n",
       "<tr>\n",
       "  <th>MAXRDATE_MM</th> <td>   -0.0005</td> <td>    0.000</td> <td>   -1.440</td> <td> 0.150</td> <td>   -0.001</td> <td>    0.000</td>\n",
       "</tr>\n",
       "</table>\n",
       "<table class=\"simpletable\">\n",
       "<tr>\n",
       "  <th>Omnibus:</th>       <td>504044.846</td> <th>  Durbin-Watson:     </th> <td>   0.018</td> \n",
       "</tr>\n",
       "<tr>\n",
       "  <th>Prob(Omnibus):</th>   <td> 0.000</td>   <th>  Jarque-Bera (JB):  </th> <td>23320.203</td>\n",
       "</tr>\n",
       "<tr>\n",
       "  <th>Skew:</th>            <td>-0.001</td>   <th>  Prob(JB):          </th> <td>    0.00</td> \n",
       "</tr>\n",
       "<tr>\n",
       "  <th>Kurtosis:</th>        <td> 1.035</td>   <th>  Cond. No.          </th> <td>1.38e+06</td> \n",
       "</tr>\n",
       "</table><br/><br/>Notes:<br/>[1] Standard Errors assume that the covariance matrix of the errors is correctly specified.<br/>[2] The condition number is large, 1.38e+06. This might indicate that there are<br/>strong multicollinearity or other numerical problems."
      ],
      "text/plain": [
       "<class 'statsmodels.iolib.summary.Summary'>\n",
       "\"\"\"\n",
       "                            OLS Regression Results                            \n",
       "==============================================================================\n",
       "Dep. Variable:               TARGET_B   R-squared:                       0.009\n",
       "Model:                            OLS   Adj. R-squared:                  0.009\n",
       "Method:                 Least Squares   F-statistic:                     32.67\n",
       "Date:                Fri, 07 Apr 2023   Prob (F-statistic):          6.80e-247\n",
       "Time:                        12:14:27   Log-Likelihood:            -1.0457e+05\n",
       "No. Observations:              144972   AIC:                         2.092e+05\n",
       "Df Residuals:                  144931   BIC:                         2.096e+05\n",
       "Df Model:                          40                                         \n",
       "Covariance Type:            nonrobust                                         \n",
       "===============================================================================\n",
       "                  coef    std err          t      P>|t|      [0.025      0.975]\n",
       "-------------------------------------------------------------------------------\n",
       "const           0.4388      0.016     27.471      0.000       0.408       0.470\n",
       "WEALTH2        -0.0048      0.001     -9.533      0.000      -0.006      -0.004\n",
       "POP90C5        -0.0028      0.001     -4.735      0.000      -0.004      -0.002\n",
       "ETH7            0.0001      0.001      0.225      0.822      -0.001       0.001\n",
       "AGE906          0.0043      0.001      8.089      0.000       0.003       0.005\n",
       "CHILC2          0.0024      0.000      5.635      0.000       0.002       0.003\n",
       "HHN1           -0.0008      0.000     -2.344      0.019      -0.002      -0.000\n",
       "DW4            -0.0005      0.000     -3.677      0.000      -0.001      -0.000\n",
       "HV1          2.302e-05   3.56e-06      6.475      0.000    1.61e-05       3e-05\n",
       "HV3            -0.0009      0.001     -0.795      0.427      -0.003       0.001\n",
       "HHD11           0.0018      0.000      3.822      0.000       0.001       0.003\n",
       "ETHC4          -0.0038      0.000     -9.834      0.000      -0.005      -0.003\n",
       "HVP2           -0.0002      0.000     -1.374      0.169      -0.000    7.63e-05\n",
       "HVP3            0.0003   9.66e-05      3.170      0.002       0.000       0.000\n",
       "HUPA6       -8.387e-05      0.000     -0.484      0.628      -0.000       0.000\n",
       "ADI         -9.503e-06    1.2e-05     -0.794      0.427    -3.3e-05     1.4e-05\n",
       "IC1         -2.253e-05   2.87e-05     -0.786      0.432   -7.87e-05    3.36e-05\n",
       "IC4             0.0001   3.11e-05      3.994      0.000    6.32e-05       0.000\n",
       "IC12           -0.0055      0.001     -8.378      0.000      -0.007      -0.004\n",
       "IC22           -0.0005      0.001     -0.632      0.527      -0.002       0.001\n",
       "HHAS3          -0.0002      0.000     -1.427      0.154      -0.001    8.31e-05\n",
       "MC1            -0.0004      0.000     -0.972      0.331      -0.001       0.000\n",
       "MC2            -0.0010      0.000     -2.380      0.017      -0.002      -0.000\n",
       "PEC1            0.0005      0.000      2.179      0.029     4.6e-05       0.001\n",
       "TPE11          -0.0006      0.000     -2.238      0.025      -0.001   -8.02e-05\n",
       "TPE13        -6.49e-06      0.000     -0.063      0.950      -0.000       0.000\n",
       "LFC3            0.0005      0.000      2.812      0.005       0.000       0.001\n",
       "LFC8         4.374e-05   4.59e-05      0.952      0.341   -4.63e-05       0.000\n",
       "OCC13          -0.0030      0.001     -5.586      0.000      -0.004      -0.002\n",
       "EIC3            0.0002      0.000      0.506      0.613      -0.001       0.001\n",
       "EIC4        -1.131e-05      0.000     -0.071      0.944      -0.000       0.000\n",
       "EIC12          -0.0008      0.001     -1.388      0.165      -0.002       0.000\n",
       "EIC13          -0.0002      0.000     -0.771      0.441      -0.001       0.000\n",
       "EIC15          -0.0019      0.000     -4.969      0.000      -0.003      -0.001\n",
       "EC2            -0.0007      0.000     -2.925      0.003      -0.001      -0.000\n",
       "EC5         -4.259e-06      0.000     -0.017      0.987      -0.001       0.001\n",
       "ANC8            0.0004      0.001      0.718      0.473      -0.001       0.002\n",
       "HC6             0.0002   5.66e-05      4.170      0.000       0.000       0.000\n",
       "HC16            0.0003      0.000      2.319      0.020    5.35e-05       0.001\n",
       "CONTROLN     1.436e-07   2.61e-08      5.493      0.000    9.24e-08    1.95e-07\n",
       "MAXRDATE_MM    -0.0005      0.000     -1.440      0.150      -0.001       0.000\n",
       "==============================================================================\n",
       "Omnibus:                   504044.846   Durbin-Watson:                   0.018\n",
       "Prob(Omnibus):                  0.000   Jarque-Bera (JB):            23320.203\n",
       "Skew:                          -0.001   Prob(JB):                         0.00\n",
       "Kurtosis:                       1.035   Cond. No.                     1.38e+06\n",
       "==============================================================================\n",
       "\n",
       "Notes:\n",
       "[1] Standard Errors assume that the covariance matrix of the errors is correctly specified.\n",
       "[2] The condition number is large, 1.38e+06. This might indicate that there are\n",
       "strong multicollinearity or other numerical problems.\n",
       "\"\"\""
      ]
     },
     "execution_count": 15,
     "metadata": {},
     "output_type": "execute_result"
    }
   ],
   "source": [
    "from sklearn.feature_selection import VarianceThreshold, RFE\n",
    "from sklearn.decomposition import PCA\n",
    "from sklearn.model_selection import cross_val_score\n",
    "import statsmodels.api as sm\n",
    "X_added_constant = sm.add_constant(X_train_upsampled)\n",
    "X_added_constant\n",
    "model = sm.OLS(y_train_upsampled,X_added_constant).fit()\n",
    "model.summary()"
   ]
  },
  {
   "cell_type": "code",
   "execution_count": 16,
   "id": "fff6eef0",
   "metadata": {},
   "outputs": [
    {
     "name": "stdout",
     "output_type": "stream",
     "text": [
      "0.5905002345280468\n",
      "0.5859141644395536\n"
     ]
    }
   ],
   "source": [
    "rfc = RandomForestClassifier(max_depth=5,\n",
    "                             min_samples_split=20,\n",
    "                             min_samples_leaf =20,\n",
    "                             max_samples=0.2,\n",
    "                             random_state = 42)\n",
    "rfc.fit(X_train_upsampled, y_train_upsampled)\n",
    "print(rfc.score(X_train_upsampled,y_train_upsampled))\n",
    "print(rfc.score(X_test,y_test))\n",
    "# Make predictions on the test data\n",
    "y_pred = rfc.predict(X_test)"
   ]
  },
  {
   "cell_type": "markdown",
   "id": "48bd976c",
   "metadata": {},
   "source": [
    "# variance threshold"
   ]
  },
  {
   "cell_type": "code",
   "execution_count": 17,
   "id": "be6ef9ed",
   "metadata": {},
   "outputs": [
    {
     "data": {
      "text/plain": [
       "0.5899966985100163"
      ]
     },
     "execution_count": 17,
     "metadata": {},
     "output_type": "execute_result"
    }
   ],
   "source": [
    "vt = VarianceThreshold(threshold=0.05)\n",
    "X_vt = vt.fit_transform(X_train_upsampled)\n",
    "scores_vt = cross_val_score(rfc, X_vt, y_train_upsampled, cv=5, scoring='accuracy')\n",
    "scores_vt.mean()"
   ]
  },
  {
   "cell_type": "code",
   "execution_count": 18,
   "id": "61e6434f",
   "metadata": {},
   "outputs": [
    {
     "data": {
      "text/plain": [
       "0.5899966985100163"
      ]
     },
     "execution_count": 18,
     "metadata": {},
     "output_type": "execute_result"
    }
   ],
   "source": [
    "vt = VarianceThreshold(threshold=0.1)\n",
    "X_vt = vt.fit_transform(X_train_upsampled)\n",
    "scores_vt = cross_val_score(rfc, X_vt, y_train_upsampled, cv=5, scoring='accuracy')\n",
    "scores_vt.mean()"
   ]
  },
  {
   "cell_type": "code",
   "execution_count": 19,
   "id": "b4d8b15e",
   "metadata": {},
   "outputs": [
    {
     "data": {
      "text/plain": [
       "0.5886585536893753"
      ]
     },
     "execution_count": 19,
     "metadata": {},
     "output_type": "execute_result"
    }
   ],
   "source": [
    "vt = VarianceThreshold(threshold=0.05)\n",
    "X_vt = vt.fit_transform(X_train_upsampled)\n",
    "scores_vt = cross_val_score(rfc, X_vt, y_train_upsampled, cv=10, scoring='accuracy')\n",
    "scores_vt.mean()"
   ]
  },
  {
   "cell_type": "markdown",
   "id": "8952e17b",
   "metadata": {},
   "source": [
    "# PCA"
   ]
  },
  {
   "cell_type": "code",
   "execution_count": 20,
   "id": "bdd57586",
   "metadata": {},
   "outputs": [
    {
     "data": {
      "text/plain": [
       "0.5498440967556981"
      ]
     },
     "execution_count": 20,
     "metadata": {},
     "output_type": "execute_result"
    }
   ],
   "source": [
    "pca = PCA(n_components=1)\n",
    "X_pca = pca.fit_transform(X_train_upsampled)\n",
    "scores_pca = cross_val_score(rfc, X_pca, y_train_upsampled, cv=5, scoring='accuracy')\n",
    "scores_pca.mean()"
   ]
  },
  {
   "cell_type": "code",
   "execution_count": 21,
   "id": "204db107",
   "metadata": {},
   "outputs": [
    {
     "data": {
      "text/plain": [
       "0.5615774046905757"
      ]
     },
     "execution_count": 21,
     "metadata": {},
     "output_type": "execute_result"
    }
   ],
   "source": [
    "pca = PCA(n_components=3)\n",
    "X_pca = pca.fit_transform(X_train_upsampled)\n",
    "scores_pca = cross_val_score(rfc, X_pca, y_train_upsampled, cv=5, scoring='accuracy')\n",
    "scores_pca.mean()"
   ]
  },
  {
   "cell_type": "code",
   "execution_count": 22,
   "id": "fb90d5cc",
   "metadata": {},
   "outputs": [
    {
     "data": {
      "text/plain": [
       "0.5649159936438675"
      ]
     },
     "execution_count": 22,
     "metadata": {},
     "output_type": "execute_result"
    }
   ],
   "source": [
    "pca = PCA(n_components=5)\n",
    "X_pca = pca.fit_transform(X_train_upsampled)\n",
    "scores_pca = cross_val_score(rfc, X_pca, y_train_upsampled, cv=5, scoring='accuracy')\n",
    "scores_pca.mean()"
   ]
  },
  {
   "cell_type": "code",
   "execution_count": 23,
   "id": "73ddae5e",
   "metadata": {},
   "outputs": [
    {
     "data": {
      "text/plain": [
       "0.569303019481717"
      ]
     },
     "execution_count": 23,
     "metadata": {},
     "output_type": "execute_result"
    }
   ],
   "source": [
    "pca = PCA(n_components=7)\n",
    "X_pca = pca.fit_transform(X_train_upsampled)\n",
    "scores_pca = cross_val_score(rfc, X_pca, y_train_upsampled, cv=5, scoring='accuracy')\n",
    "scores_pca.mean()"
   ]
  },
  {
   "cell_type": "code",
   "execution_count": 24,
   "id": "17f0877a",
   "metadata": {},
   "outputs": [
    {
     "data": {
      "text/plain": [
       "0.5730899692122231"
      ]
     },
     "execution_count": 24,
     "metadata": {},
     "output_type": "execute_result"
    }
   ],
   "source": [
    "pca = PCA(n_components=9)\n",
    "X_pca = pca.fit_transform(X_train_upsampled)\n",
    "scores_pca = cross_val_score(rfc, X_pca, y_train_upsampled, cv=5, scoring='accuracy')\n",
    "scores_pca.mean()"
   ]
  },
  {
   "cell_type": "code",
   "execution_count": 25,
   "id": "d471adf8",
   "metadata": {},
   "outputs": [
    {
     "data": {
      "text/plain": [
       "0.5810777367011599"
      ]
     },
     "execution_count": 25,
     "metadata": {},
     "output_type": "execute_result"
    }
   ],
   "source": [
    "pca = PCA(n_components=11)\n",
    "X_pca = pca.fit_transform(X_train_upsampled)\n",
    "scores_pca = cross_val_score(rfc, X_pca, y_train_upsampled, cv=5, scoring='accuracy')\n",
    "scores_pca.mean()"
   ]
  },
  {
   "cell_type": "code",
   "execution_count": 26,
   "id": "55dceeba",
   "metadata": {},
   "outputs": [
    {
     "data": {
      "text/plain": [
       "0.5838092949474547"
      ]
     },
     "execution_count": 26,
     "metadata": {},
     "output_type": "execute_result"
    }
   ],
   "source": [
    "pca = PCA(n_components=13)\n",
    "X_pca = pca.fit_transform(X_train_upsampled)\n",
    "scores_pca = cross_val_score(rfc, X_pca, y_train_upsampled, cv=5, scoring='accuracy')\n",
    "scores_pca.mean()"
   ]
  },
  {
   "cell_type": "code",
   "execution_count": 27,
   "id": "57e555ee",
   "metadata": {},
   "outputs": [
    {
     "data": {
      "text/plain": [
       "0.5895759220354954"
      ]
     },
     "execution_count": 27,
     "metadata": {},
     "output_type": "execute_result"
    }
   ],
   "source": [
    "pca = PCA(n_components=21)\n",
    "X_pca = pca.fit_transform(X_train_upsampled)\n",
    "scores_pca = cross_val_score(rfc, X_pca, y_train_upsampled, cv=5, scoring='accuracy')\n",
    "scores_pca.mean()"
   ]
  },
  {
   "cell_type": "code",
   "execution_count": null,
   "id": "86323e51",
   "metadata": {},
   "outputs": [],
   "source": []
  },
  {
   "cell_type": "code",
   "execution_count": null,
   "id": "6278434e",
   "metadata": {},
   "outputs": [],
   "source": []
  },
  {
   "cell_type": "code",
   "execution_count": null,
   "id": "e97a296e",
   "metadata": {},
   "outputs": [],
   "source": []
  },
  {
   "cell_type": "code",
   "execution_count": null,
   "id": "efc01202",
   "metadata": {},
   "outputs": [],
   "source": []
  },
  {
   "cell_type": "markdown",
   "id": "00cd21fd",
   "metadata": {},
   "source": [
    "# X and y upsampled"
   ]
  },
  {
   "cell_type": "code",
   "execution_count": 30,
   "id": "1610981d",
   "metadata": {},
   "outputs": [
    {
     "data": {
      "text/plain": [
       "0.5899966985100163"
      ]
     },
     "execution_count": 30,
     "metadata": {},
     "output_type": "execute_result"
    }
   ],
   "source": [
    "scores_ups = cross_val_score(rfc, X_train_upsampled, y_train_upsampled, cv=5, scoring='accuracy')\n",
    "scores_ups.mean()"
   ]
  },
  {
   "cell_type": "code",
   "execution_count": 31,
   "id": "b18358e3",
   "metadata": {},
   "outputs": [
    {
     "name": "stdout",
     "output_type": "stream",
     "text": [
      "test data score was:  -0.0033698882981700873\n",
      "train data score was:  0.0049208797977631225\n"
     ]
    }
   ],
   "source": [
    "from sklearn.tree import DecisionTreeRegressor\n",
    "regr = DecisionTreeRegressor(max_depth=4)\n",
    "regr.fit(X_train, y_train)\n",
    "print(\"test data score was: \",regr.score(X_test, y_test))\n",
    "print(\"train data score was: \",regr.score(X_train, y_train))"
   ]
  },
  {
   "cell_type": "code",
   "execution_count": 32,
   "id": "e82dbb94",
   "metadata": {},
   "outputs": [],
   "source": [
    "max_depth = range(1,30)\n",
    "test = []\n",
    "train = []\n",
    "\n",
    "for depth in max_depth:\n",
    "    model = DecisionTreeRegressor(max_depth=depth, random_state=0)\n",
    "    model.fit(X_train, y_train)\n",
    "    test.append(model.score(X_test,y_test))\n",
    "    train.append(model.score(X_train,y_train))"
   ]
  },
  {
   "cell_type": "code",
   "execution_count": 33,
   "id": "29e421e0",
   "metadata": {},
   "outputs": [
    {
     "data": {
      "text/plain": [
       "<matplotlib.legend.Legend at 0x1bdb6c7ca30>"
      ]
     },
     "execution_count": 33,
     "metadata": {},
     "output_type": "execute_result"
    },
    {
     "data": {
      "image/png": "[encoded data removed]",
      "text/plain": [
       "<Figure size 1296x432 with 1 Axes>"
      ]
     },
     "metadata": {
      "needs_background": "light"
     },
     "output_type": "display_data"
    }
   ],
   "source": [
    "# we quickly see overfitting properties\n",
    "import matplotlib.pyplot as plt\n",
    "%matplotlib inline\n",
    "plt.figure(figsize=(18,6))\n",
    "plt.plot( train, label=\"training accuracy\")\n",
    "plt.plot( test, label=\"test accuracy\")\n",
    "plt.ylabel(\"Accuracy\")\n",
    "plt.xlabel(\"n_depth-1\")\n",
    "plt.legend()"
   ]
  },
  {
   "cell_type": "code",
   "execution_count": null,
   "id": "63aa5055",
   "metadata": {},
   "outputs": [],
   "source": [
    "# with feature selection the score drops about 3%"
   ]
  },
  {
   "cell_type": "code",
   "execution_count": null,
   "id": "f4a8c5f5",
   "metadata": {},
   "outputs": [],
   "source": []
  },
  {
   "cell_type": "code",
   "execution_count": null,
   "id": "1086f84e",
   "metadata": {},
   "outputs": [],
   "source": []
  }
 ],
 "metadata": {
  "kernelspec": {
   "display_name": "Python 3 (ipykernel)",
   "language": "python",
   "name": "python3"
  },
  "language_info": {
   "codemirror_mode": {
    "name": "ipython",
    "version": 3
   },
   "file_extension": ".py",
   "mimetype": "text/x-python",
   "name": "python",
   "nbconvert_exporter": "python",
   "pygments_lexer": "ipython3",
   "version": "3.9.12"
  }
 },
 "nbformat": 4,
 "nbformat_minor": 5
}
